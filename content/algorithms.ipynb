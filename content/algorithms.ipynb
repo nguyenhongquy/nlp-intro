{
 "cells": [
  {
   "cell_type": "markdown",
   "id": "71dbc525",
   "metadata": {},
   "source": [
    "# Big O\n",
    "\n",
    "A function $f(n)$ is considered $O(g(n))$, read as **big oh** of $g(n)$ if there exists some positive real consant $c$ and an interger $n_0\\geq 0$ such that the following inequilitz holds for all $n \\geq n_0$: $f(n) \\leq cg(n)$"
   ]
  },
  {
   "cell_type": "markdown",
   "id": "51c4718f",
   "metadata": {},
   "source": [
    "|function|Time Complexity|\n",
    "|---|---|\n",
    "|`append(value)`| $O(1)$|\n",
    "|`insert(index,value)`|$O(n)$|\n",
    "|`remove(value)`|$O(n)$|\n",
    "|`pop(index)`|$O(n)$|\n",
    "|`reverse()`|$O(n)$|\n",
    "\n",
    "\n"
   ]
  },
  {
   "cell_type": "markdown",
   "id": "cf5d286c",
   "metadata": {},
   "source": []
  },
  {
   "cell_type": "markdown",
   "id": "fbf67599",
   "metadata": {},
   "source": [
    "# Two Pointers"
   ]
  },
  {
   "cell_type": "markdown",
   "id": "56e9c84f",
   "metadata": {},
   "source": [
    "## Palindrome\n",
    "To check if a string is a palindrome, the naive approach is first removing the non-alphanumeric characters, then reverse the result to compare with the original string. This requires extra space to store the clean string and its reversed copy (space complexity O(n)).\n",
    "\n",
    "The two pointer approach minimizes unnecessary computation and extra space. It begins by initializing two pointers, one at the start (left pointer), and one at the end (right pointer). The pointers move inward simultaneously. As the algorithm processes the string, it skip spaces, punctuation, and special characters, focusing only on valid alphanumeric characters. \n",
    "The algorithm compares the characters at the left and right pointers at each step. If they match, both pointers move inward to check the next pair. If a mismatch is found, immediately return False. The process continues until the pointers meet or cross each other, if no mismatches are found, return True. Space complexity is O(1)."
   ]
  },
  {
   "cell_type": "code",
   "execution_count": null,
   "id": "5f1f85cc",
   "metadata": {},
   "outputs": [],
   "source": [
    "def is_palindrome(s):\n",
    "    left = 0\n",
    "    right = len(s) - 1\n",
    "\n",
    "    while left < right:\n",
    "        while not s[left].isalnum():\n",
    "            left += 1\n",
    "        \n",
    "        while not s[right].isalnum():\n",
    "            right -= 1\n",
    "\n",
    "        if s[left].lower() != s[right].lower():\n",
    "            return False\n",
    "\n",
    "        left += 1\n",
    "        right -= 1\n",
    "\n",
    "    return True\n",
    "\n",
    "\n",
    "def main():\n",
    "    test_cases = [\n",
    "        \"A man, a plan, a canal: Panama\",\n",
    "        \"race a car\",\n",
    "        \"1A@2!3 23!2@a1\",\n",
    "        \"No 'x' in Nixon\",\n",
    "        \"12321\",\n",
    "    ]\n",
    "\n",
    "    for i in test_cases:\n",
    "        print(\"\\n\\tString:\", i,\"\\n\")\n",
    "        print(is_palindrome(i))\n",
    "        print(\"-\" * 100)\n",
    "\n",
    "\n",
    "if __name__ == \"__main__\":\n",
    "    main()"
   ]
  },
  {
   "cell_type": "markdown",
   "id": "3203e58a",
   "metadata": {},
   "source": [
    "## 3Sum\n",
    "\n",
    "1. Sort the input array nums in ascending order\n",
    "2. create an empty array, result, to store the unique triplest\n",
    "3. store the length of nums as n\n",
    "4. iterate over the array from index i=0 until n-2 \n",
    "* break the loop if the current number is greater than 0\n",
    "* if i == 0 or nums[i] != nums[i-1] this is ensure that the current number is either the list first element or not a duplicate of the previous element\n",
    "    * initialize 2 pointer, low = i+1 and high = n-1\n",
    "    * run a loop as long as low is less than high\n",
    "    * calculate the sum\n",
    "    * if the sum is greater than 0, move the low pointer forward to increase the sum\n",
    "    * if the sum is less than 0, move the high pointer backward to decrease the sum\n",
    "    * otherwise, add the triplets to the result\n",
    "    * move the low and high to the next distinct values to avoid duplicate triplets\n",
    "5. After iterating the whole arraz, return the result that contains all unique triplets"
   ]
  },
  {
   "cell_type": "code",
   "execution_count": null,
   "id": "f40a5490",
   "metadata": {},
   "outputs": [],
   "source": [
    "def three_sum(nums):\n",
    "    result = []\n",
    "    nums.sort()\n",
    "    n = len(nums)\n",
    "\n",
    "    for i in range(n-2):\n",
    "        if nums[i] > 0:\n",
    "            break\n",
    "        \n",
    "        if i == 0 or nums[i] != nums[i-1]:\n",
    "            low = i+1\n",
    "            high = n-1\n",
    "            while low < high:\n",
    "                sum = nums[i] + nums[low] + nums[high]\n",
    "                if sum < 0:\n",
    "                    low += 1\n",
    "                elif sum > 0:\n",
    "                    high -= 1\n",
    "                elif sum == 0:\n",
    "                    result.append([nums[i], nums[low], nums[high]])\n",
    "                    low += 1\n",
    "                    high -= 1\n",
    "                    while low < n and nums[low] == nums[low-1]:\n",
    "                        low += 1\n",
    "                    while high < 0 and nums[high] == nums[high+1]:\n",
    "                        high -= 1\n",
    "\n",
    "    return result\n",
    "\n",
    "# Driver code\n",
    "def main():\n",
    "    nums_arrs = [\n",
    "        [-1, 0, 1, 2, -1, -4],\n",
    "        [1, 2, 3, 4, 5],\n",
    "        [0, 0, 0, 0],\n",
    "        [-4, -1, -1, 0, 1, 2, 2],\n",
    "        [-10, -7, -3, -1, 0, 3, 7, 10],\n",
    "        [-3, -5, -7, -9]\n",
    "    ]\n",
    "\n",
    "    for i, nums in enumerate(nums_arrs):\n",
    "        print(f\"{i + 1}.\\tnums: [{', '.join(map(str, nums))}]\\n\")\n",
    "        print(f\"\\tTriplets: {three_sum(nums)}\")\n",
    "        print('-' * 100)\n",
    "\n",
    "if __name__ == \"__main__\":\n",
    "    main()"
   ]
  },
  {
   "cell_type": "markdown",
   "id": "28a9bd45",
   "metadata": {},
   "source": [
    "1.\tnums: [-1, 0, 1, 2, -1, -4]\n",
    "\n",
    "\tTriplets: [[-1, -1, 2], [-1, 0, 1]]\n",
    "----------------------------------------------------------------------------------------------------\n",
    "2.\tnums: [1, 2, 3, 4, 5]\n",
    "\n",
    "\tTriplets: []\n",
    "----------------------------------------------------------------------------------------------------\n",
    "3.\tnums: [0, 0, 0, 0]\n",
    "\n",
    "\tTriplets: [[0, 0, 0]]\n",
    "----------------------------------------------------------------------------------------------------\n",
    "4.\tnums: [-4, -1, -1, 0, 1, 2, 2]\n",
    "\n",
    "\tTriplets: [[-4, 2, 2], [-1, -1, 2], [-1, 0, 1]]\n",
    "----------------------------------------------------------------------------------------------------\n",
    "5.\tnums: [-10, -7, -3, -1, 0, 3, 7, 10]\n",
    "\n",
    "\tTriplets: [[-10, 0, 10], [-10, 3, 7], [-7, -3, 10], [-7, 0, 7], [-3, 0, 3]]\n",
    "----------------------------------------------------------------------------------------------------\n",
    "6.\tnums: [-3, -5, -7, -9]\n",
    "\n",
    "\tTriplets: []"
   ]
  },
  {
   "cell_type": "markdown",
   "id": "739885fa",
   "metadata": {},
   "source": [
    "# Linked List"
   ]
  },
  {
   "cell_type": "code",
   "execution_count": null,
   "id": "e9e87354",
   "metadata": {},
   "outputs": [],
   "source": [
    "class ListNode:\n",
    "    def __init__(self, val=0, next=None):\n",
    "        self.val = val      # the actual value stored in the node\n",
    "        self.next = next    # the next node in the list, or None if it's the last node\n",
    "\n",
    "class LinkedList:\n",
    "    def __init__(self, values=None):\n",
    "        self.head = None    # the first node in the list, initially None\n",
    "        if values:          # if a list of values is passed, it calls create_linked_list(values) to build the list\n",
    "            self.create_linked_list(values)\n",
    "\n",
    "    def create_linked_list(self, values):\n",
    "        if not values:      # if the values list is empty, the list stays empty\n",
    "            self.head = None    # head of empty list is None\n",
    "            return\n",
    "\n",
    "        self.head = ListNode(values[0]) # create the head for non-empty list\n",
    "        current = self.head             # keep track of the last node added so it can link to the new one. initialized with head\n",
    "        for value in values[1:]:        # loop through the remaining values\n",
    "            current.next = ListNode(value)  # create a new node for each value\n",
    "            current = current.next          # link the node to the next value\n",
    "    \n",
    "def display(head):\n",
    "    current = head\n",
    "    while current:\n",
    "        print(current.val, end=\" -> \")\n",
    "        current = current.next\n",
    "    print(\"None\")"
   ]
  },
  {
   "cell_type": "code",
   "execution_count": null,
   "id": "8855ee99",
   "metadata": {},
   "outputs": [],
   "source": [
    "\n",
    "def linked_list_to_list(head):\n",
    "    result = []\n",
    "    while head:\n",
    "        result.append(head.val)\n",
    "        head = head.next\n",
    "    return result\n",
    "\n",
    "def remove_nth_last_node(head, n):\n",
    "    # Point two pointers, right and left, at head.\n",
    "    print(\"Initial list:\", linked_list_to_list(head))\n",
    "\n",
    "    right = head\n",
    "    left = head\n",
    "\n",
    "    # Move right pointer n elements away from the left pointer.\n",
    "    print(f\"Moving right pointer {n} steps ahead...\")\n",
    "\n",
    "    for i in range(n):\n",
    "        right = right.next\n",
    "        print(f\" Step {i+1}: right = {right.val if right else 'None'}\")\n",
    "    \n",
    "    # Removal of the head node.\n",
    "    if not right:\n",
    "        print(\"Removing the head node\")\n",
    "        return head.next\n",
    "    \n",
    "    # Move both pointers until right pointer reaches the last node.\n",
    "    print(\"Moving both pointers until right reaches the end...\")\n",
    "    while right.next:\n",
    "        right = right.next\n",
    "        left = left.next\n",
    "        print(f\" right = {right.val}, left = {left.val}\")\n",
    "\n",
    "        # At this point, left pointer points to (n-1)th element.\n",
    "        # So link it to next to next element of left.\n",
    "    print(f\"Node to be removed: {left.next.val}\")\n",
    "    left.next = left.next.next\n",
    "    print(\"Final list:\", linked_list_to_list(head))\n",
    "\n",
    "    return head\n"
   ]
  },
  {
   "cell_type": "code",
   "execution_count": null,
   "id": "e89e59a6",
   "metadata": {},
   "outputs": [],
   "source": [
    "# Template for printing the linked list with forward arrows\n",
    "\n",
    "def print_list_with_forward_arrow(linked_list_node):\n",
    "    temp = linked_list_node\n",
    "    while temp:\n",
    "        print(temp.val, end=\" \")  # print node value\n",
    "        \n",
    "        temp = temp.next\n",
    "        if temp:\n",
    "            print(\"→\", end=\" \")\n",
    "        else:\n",
    "            # if this is the last node, print null at the end\n",
    "            print(\"→ null\", end=\" \")"
   ]
  },
  {
   "cell_type": "code",
   "execution_count": null,
   "id": "17693afe",
   "metadata": {},
   "outputs": [],
   "source": [
    "\n",
    "# Driver code\n",
    "def main():\n",
    "    lists = [[23, 89, 10, 5, 67, 39, 70, 28], [34, 53, 6, 95, 38, 28, 17, 63, 16, 76], [288, 224, 275, 390, 4, 383, 330, 60, 193],\n",
    "    [1, 2, 3, 4, 5, 6, 7, 8, 9], [69, 8, 49, 106, 116, 112, 104, 129, 39, 14, 27, 12]]\n",
    "    n = [4, 1, 6, 9, 11]\n",
    "\n",
    "    for i in range(len(n)):\n",
    "        input_linked_list = LinkedList()\n",
    "        input_linked_list.create_linked_list(lists[i])\n",
    "        print(i+1, \". Linked List:\\t\", end='')\n",
    "        print_list_with_forward_arrow(input_linked_list.head)\n",
    "        print()\n",
    "        print(\"n = \", n[i])\n",
    "        result = remove_nth_last_node(input_linked_list.head, n[i])\n",
    "        print(\"Updated Linked List:\\t\", end='')\n",
    "        print_list_with_forward_arrow(result)\n",
    "        print()\n",
    "        print(\"-\"*100)\n",
    "\n",
    "\n",
    "\n",
    "main()"
   ]
  },
  {
   "cell_type": "markdown",
   "id": "031b64a2",
   "metadata": {},
   "source": [
    "#  Sort colors"
   ]
  },
  {
   "cell_type": "code",
   "execution_count": null,
   "id": "5123d831",
   "metadata": {},
   "outputs": [],
   "source": [
    "\n",
    "def sort_colors(colors):\n",
    "    \n",
    "    # Replace this placeholder return statement with your code\n",
    "    # introduce 3 pointers\n",
    "    red = 0 # boundary for 0s\n",
    "    blue = len(colors)-1 # boundary for 2s\n",
    "    current_pointer = 0 # pointer that moves through the array\n",
    "    # iterate through the array\n",
    "    while current_pointer <= blue: # process each element until the current pointer crosses the blue boundary\n",
    "        if colors[current_pointer] == 0:\n",
    "            # tuple swap swap the current value with the red pointer's value\n",
    "            colors[current_pointer], colors[red] = colors[red], colors[current_pointer]\n",
    "            # move both red and current forward\n",
    "            current_pointer += 1\n",
    "            red += 1\n",
    "        elif colors[current_pointer] == 1:\n",
    "            # 1s stay in place, just move on\n",
    "            current_pointer += 1\n",
    "        elif colors[current_pointer] == 2:\n",
    "            # swap with the value at the blue boundary\n",
    "            colors[current_pointer], colors[blue] = colors[blue], colors[current_pointer]     \n",
    "            colors[blue] = 2\n",
    "            # only move blue but not the current_pointer, because we need to recheck the swapped value\n",
    "            blue -= 1\n",
    "    return colors\n",
    "\n",
    "colors = [2,1,1,0,0]\n",
    "print(sort_colors(colors))"
   ]
  },
  {
   "cell_type": "markdown",
   "id": "37ed0a6f",
   "metadata": {},
   "source": [
    "# Valid word abbreviation"
   ]
  },
  {
   "cell_type": "code",
   "execution_count": null,
   "id": "50d4f44d",
   "metadata": {},
   "outputs": [
    {
     "name": "stdout",
     "output_type": "stream",
     "text": [
      "1\n",
      "number 1\n",
      "3\n",
      "number 13\n",
      "number 13\n",
      "number 13\n",
      "4\n",
      "number 134\n",
      "number 134\n"
     ]
    }
   ],
   "source": [
    "def parse_string(s):\n",
    "    n = []\n",
    "    i = 0\n",
    "    number = \"\"\n",
    "    while i < len(s):\n",
    "        if s[i].isdigit():\n",
    "            number += s[i]\n",
    "        i += 1\n",
    "\n",
    "            \n",
    "\n",
    "abbr = \"13iz4n\"\n",
    "parse_string(abbr)"
   ]
  },
  {
   "cell_type": "code",
   "execution_count": 34,
   "id": "85c117cf",
   "metadata": {},
   "outputs": [
    {
     "data": {
      "text/plain": [
       "True"
      ]
     },
     "execution_count": 34,
     "metadata": {},
     "output_type": "execute_result"
    }
   ],
   "source": [
    "def valid_word_abbreviation(word, abbr):\n",
    "\n",
    "    # Replace the following return statement with your code\n",
    "    # initialze two pointers, 1 at the word and 1 at the abbr\n",
    "    word_pointer = 0\n",
    "    abbr_pointer = 0\n",
    "    # iterate over the abbr\n",
    "    while abbr_pointer < len(abbr):\n",
    "        \n",
    "        \n",
    "        # if the current pointer is a digit, validate then skip that number in word\n",
    "        if abbr[abbr_pointer].isdigit():\n",
    "            # number must not start with 0\n",
    "            if abbr[abbr_pointer] == \"0\":\n",
    "                return False\n",
    "            \n",
    "            # parse the number, handle multidigit case\n",
    "            num = 0\n",
    "        \n",
    "            # advance the pointer, build the number with loop\n",
    "            # always check the boundary when doing indexing\n",
    "            while abbr_pointer < len(abbr) and abbr[abbr_pointer].isdigit():\n",
    "                # parse the multidigit number\n",
    "                num = num * 10 + int(abbr[abbr_pointer])\n",
    "                abbr_pointer += 1\n",
    "                \n",
    "            word_pointer += num\n",
    "\n",
    "\n",
    "        # if the current pointer is a letter, ensure it match the character in word\n",
    "        else:\n",
    "            if word_pointer >= len(word) or abbr[abbr_pointer] != word[word_pointer]: # too far or mismatch\n",
    "                return False\n",
    "\n",
    "                # continue the process until find the mismatch or reach the end of abbr\n",
    "            word_pointer += 1\n",
    "            abbr_pointer += 1\n",
    "\n",
    "    # return True if both pointers reach the end of the string, else return False\n",
    "    return word_pointer == len(word)\n",
    "\n",
    "word = \"internationalization\"\n",
    "abbr = \"13iz4n\"\n",
    "valid_word_abbreviation(word, abbr)\n"
   ]
  },
  {
   "cell_type": "code",
   "execution_count": 35,
   "id": "8a1c739a",
   "metadata": {},
   "outputs": [],
   "source": [
    "rotated = {\n",
    "        1: 1, 6:9,9:6, 8:8, 0:0\n",
    "    }"
   ]
  },
  {
   "cell_type": "code",
   "execution_count": 36,
   "id": "0d9e1db6",
   "metadata": {},
   "outputs": [
    {
     "data": {
      "text/plain": [
       "1"
      ]
     },
     "execution_count": 36,
     "metadata": {},
     "output_type": "execute_result"
    }
   ],
   "source": [
    "rotated[1]"
   ]
  },
  {
   "cell_type": "code",
   "execution_count": 42,
   "id": "4aa7a6d2",
   "metadata": {},
   "outputs": [
    {
     "data": {
      "text/plain": [
       "['t', 'h', 's', 'h', 's', 'h', 's']"
      ]
     },
     "execution_count": 42,
     "metadata": {},
     "output_type": "execute_result"
    }
   ],
   "source": [
    "t = list(\"thshshs\")\n",
    "t"
   ]
  },
  {
   "cell_type": "code",
   "execution_count": 87,
   "id": "b0aa7ce8",
   "metadata": {},
   "outputs": [
    {
     "data": {
      "text/plain": [
       "7"
      ]
     },
     "execution_count": 87,
     "metadata": {},
     "output_type": "execute_result"
    }
   ],
   "source": [
    "def min_moves_to_make_palindrome(s):\n",
    "    \n",
    "    # Replace this placeholder return statement with your code\n",
    "    # keep track of the number swapped\n",
    "    chars = list(s)\n",
    "    moves = 0\n",
    "    # 2 pointers\n",
    "    i = 0\n",
    "    j = len(chars) - 1\n",
    "    \n",
    "    while i < j:\n",
    "        if chars[i] == chars[j]:\n",
    "            # move inward\n",
    "            i += 1\n",
    "            j -= 1\n",
    "        else:\n",
    "            # create an inner loop to search for matching character\n",
    "            k = j\n",
    "            # iterate through the loop until find the matching position with the first pointer, or k reach the first pointer\n",
    "            while k > i and chars[k] != chars[i]:\n",
    "                k -= 1\n",
    "\n",
    "            if k == i: # reach the first pointer without matching found\n",
    "                # move the char one (will continue move when decrementing k)\n",
    "                chars[i], chars[i+1] = chars[i+1], chars[i]\n",
    "                moves += 1\n",
    "            \n",
    "            else: # found the matching case\n",
    "                while k < j:\n",
    "                    chars[k], chars[k+1] = chars[k+1], chars[k]\n",
    "                    moves += 1\n",
    "                    k += 1\n",
    "\n",
    "                # move both pointers inward (because chars[j] == chars[i])\n",
    "                i += 1\n",
    "                j -= 1\n",
    "\n",
    "    return moves\n",
    "    \n",
    "    \n",
    "result = min_moves_to_make_palindrome(\"eggeekgbbeg\")\n",
    "result"
   ]
  },
  {
   "cell_type": "markdown",
   "id": "265dfc49",
   "metadata": {},
   "source": [
    "# Next palindrome using same digits"
   ]
  },
  {
   "cell_type": "code",
   "execution_count": 4,
   "id": "f1001ca9",
   "metadata": {},
   "outputs": [
    {
     "data": {
      "text/plain": [
       "'23314041332'"
      ]
     },
     "execution_count": 4,
     "metadata": {},
     "output_type": "execute_result"
    }
   ],
   "source": [
    "def find_next_palindrome(num_str):\n",
    "  \n",
    "    # Replace the following return statement with your code\n",
    "    # start from the middle of the number and find the first number \n",
    "    # that is smaller than the number next to it\n",
    "    n = len(num_str)\n",
    "    if n == 1:\n",
    "        return \"\"\n",
    "    num_str = list(num_str)\n",
    "    left_haft = num_str[:n//2]\n",
    "    middle = \"\"\n",
    "\n",
    "    # a loop beginning from the middle of the string\n",
    "    i = len(left_haft) - 2\n",
    "    # stop when finding the first digit that decrease \n",
    "    while i >= 0 and left_haft[i] >= left_haft[i+1]:\n",
    "        i -= 1\n",
    "    # return False if we reach the beginning of the string\n",
    "    if i == -1:\n",
    "        return \"\"\n",
    "    \n",
    "    # search from the end of the digits to find a larger digit\n",
    "    j = len(left_haft) - 1\n",
    "    while left_haft[j] <= left_haft[i]:\n",
    "        j -= 1\n",
    "    \n",
    "    # swap i and j to create a jump\n",
    "    left_haft[i], left_haft[j] = left_haft[j], left_haft[i]\n",
    "    \n",
    "    # reverse the string from i + 1\n",
    "    left_haft[i+1:] = reversed(left_haft[i+1:])\n",
    "\n",
    "\n",
    "    if n % 2 == 1:\n",
    "        middle = num_str[n//2]\n",
    "        result = ''.join(left_haft + [middle] + left_haft[::-1])\n",
    "    else:\n",
    "        result = ''.join(left_haft + left_haft[::-1])\n",
    "    \n",
    "\n",
    "    return result\n",
    "\n",
    "case2 = \"23143034132\"\n",
    "find_next_palindrome(case2)\n"
   ]
  }
 ],
 "metadata": {
  "kernelspec": {
   "display_name": ".venv",
   "language": "python",
   "name": "python3"
  },
  "language_info": {
   "codemirror_mode": {
    "name": "ipython",
    "version": 3
   },
   "file_extension": ".py",
   "mimetype": "text/x-python",
   "name": "python",
   "nbconvert_exporter": "python",
   "pygments_lexer": "ipython3",
   "version": "3.12.3"
  }
 },
 "nbformat": 4,
 "nbformat_minor": 5
}
