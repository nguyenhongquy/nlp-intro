{
 "cells": [
  {
   "cell_type": "markdown",
   "id": "e673984f",
   "metadata": {},
   "source": [
    "# Sentence window retrieval"
   ]
  },
  {
   "cell_type": "markdown",
   "id": "59b80036",
   "metadata": {},
   "source": []
  },
  {
   "cell_type": "markdown",
   "id": "654791cc",
   "metadata": {},
   "source": [
    "# Auto-merging retrieval"
   ]
  },
  {
   "cell_type": "markdown",
   "id": "415b6a22",
   "metadata": {},
   "source": []
  }
 ],
 "metadata": {
  "language_info": {
   "name": "python"
  }
 },
 "nbformat": 4,
 "nbformat_minor": 5
}
