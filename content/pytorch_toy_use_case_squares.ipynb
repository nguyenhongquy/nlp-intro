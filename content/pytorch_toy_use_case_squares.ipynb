{
 "cells": [
  {
   "cell_type": "markdown",
   "id": "f6ee0163",
   "metadata": {},
   "source": [
    "## 🧸 Toy Use Case: Predict Squares with a Neural Network\n",
    "This toy example uses the first 5 beginner-level PyTorch features to train a small model that predicts the square of a number."
   ]
  },
  {
   "cell_type": "code",
   "execution_count": null,
   "id": "bfda6f47",
   "metadata": {},
   "outputs": [],
   "source": [
    "import torch\n",
    "from torch.utils.data import Dataset, DataLoader\n",
    "import torch.nn as nn\n",
    "import torch.optim as optim\n",
    "\n",
    "# Use GPU if available\n",
    "device = torch.device(\"cuda\" if torch.cuda.is_available() else \"cpu\")"
   ]
  },
  {
   "cell_type": "markdown",
   "id": "40000ae6",
   "metadata": {},
   "source": [
    "### 1. Create a Custom Dataset"
   ]
  },
  {
   "cell_type": "code",
   "execution_count": null,
   "id": "4eec9970",
   "metadata": {},
   "outputs": [],
   "source": [
    "class SquaresDataset(Dataset):\n",
    "    def __init__(self, n=1000):\n",
    "        self.x = torch.linspace(0, 10, n).unsqueeze(1)\n",
    "        self.y = self.x ** 2\n",
    "\n",
    "    def __len__(self):\n",
    "        return len(self.x)\n",
    "\n",
    "    def __getitem__(self, idx):\n",
    "        return self.x[idx], self.y[idx]\n",
    "\n",
    "dataset = SquaresDataset()\n",
    "loader = DataLoader(dataset, batch_size=32, shuffle=True)"
   ]
  },
  {
   "cell_type": "markdown",
   "id": "7154e0d7",
   "metadata": {},
   "source": [
    "### 2. Define a Simple Feedforward Neural Network"
   ]
  },
  {
   "cell_type": "code",
   "execution_count": null,
   "id": "10a18945",
   "metadata": {},
   "outputs": [],
   "source": [
    "class SquareNet(nn.Module):\n",
    "    def __init__(self):\n",
    "        super().__init__()\n",
    "        self.model = nn.Sequential(\n",
    "            nn.Linear(1, 16),\n",
    "            nn.ReLU(),\n",
    "            nn.Linear(16, 1)\n",
    "        )\n",
    "\n",
    "    def forward(self, x):\n",
    "        return self.model(x)\n",
    "\n",
    "model = SquareNet().to(device)"
   ]
  },
  {
   "cell_type": "markdown",
   "id": "c19114a7",
   "metadata": {},
   "source": [
    "### 3. Set Up Loss Function and Optimizer"
   ]
  },
  {
   "cell_type": "code",
   "execution_count": null,
   "id": "ca6bebd4",
   "metadata": {},
   "outputs": [],
   "source": [
    "criterion = nn.MSELoss()\n",
    "optimizer = optim.Adam(model.parameters(), lr=0.01)"
   ]
  },
  {
   "cell_type": "markdown",
   "id": "23064406",
   "metadata": {},
   "source": [
    "### 4. Training Loop"
   ]
  },
  {
   "cell_type": "code",
   "execution_count": null,
   "id": "1eb5a245",
   "metadata": {},
   "outputs": [],
   "source": [
    "for epoch in range(10):\n",
    "    for batch_x, batch_y in loader:\n",
    "        batch_x, batch_y = batch_x.to(device), batch_y.to(device)\n",
    "\n",
    "        preds = model(batch_x)\n",
    "        loss = criterion(preds, batch_y)\n",
    "\n",
    "        optimizer.zero_grad()\n",
    "        loss.backward()\n",
    "        optimizer.step()\n",
    "\n",
    "    print(f\"Epoch {epoch+1}, Loss: {loss.item():.4f}\")"
   ]
  },
  {
   "cell_type": "markdown",
   "id": "c83c60c0",
   "metadata": {},
   "source": [
    "### 5. Test the Model"
   ]
  },
  {
   "cell_type": "code",
   "execution_count": null,
   "id": "9ee2e8c7",
   "metadata": {},
   "outputs": [],
   "source": [
    "test_input = torch.tensor([[4.0], [7.5], [9.0]]).to(device)\n",
    "predicted = model(test_input).detach().cpu()\n",
    "print(\"Input:\", test_input.cpu().numpy().flatten())\n",
    "print(\"Predicted squares:\", predicted.numpy().flatten())"
   ]
  },
  {
   "cell_type": "markdown",
   "id": "3cd6ce52",
   "metadata": {},
   "source": [
    "Sure! Here's a Taylor Swift–style pop song summarizing the **toy PyTorch use case** — catchy, melodic, and slightly dramatic, like her early storytelling hits 🎸✨\n",
    "\n",
    "---\n",
    "\n",
    "🎵 **“Square You Up”** *(to the tune of a Swift-y heartbreak anthem)*\n",
    "\n",
    "**\\[Verse 1]**\n",
    "I met you in the data lab,\n",
    "You were just a number, playing it drab.\n",
    "From zero up to ten you rose,\n",
    "But your true power nobody knows.\n",
    "\n",
    "I wrapped you in a tensor shell,\n",
    "One little input with stories to tell.\n",
    "And I said, “Hey model, let's begin,”\n",
    "ReLU smile and a Linear grin.\n",
    "\n",
    "---\n",
    "\n",
    "**\\[Chorus]**\n",
    "I’m gonna square you up, baby, that’s the deal,\n",
    "Feed you through a net that learns what’s real.\n",
    "We batch, we shuffle, we optimize,\n",
    "Until your errors say goodbye.\n",
    "\n",
    "From 4 to 16, then down to 1,\n",
    "We train all day under GPU sun.\n",
    "You’re more than just a number, can’t you see?\n",
    "You’re a square, baby — you’re perfect to me.\n",
    "\n",
    "---\n",
    "\n",
    "**\\[Verse 2]**\n",
    "A thousand samples in a line,\n",
    "Each one whispering, “y = x² is mine.”\n",
    "Loss went down like a summer rain,\n",
    "Backprop clearing out the pain.\n",
    "\n",
    "---\n",
    "\n",
    "**\\[Bridge]**\n",
    "Autograd caught every fall,\n",
    "Adam’s steps, they knew it all.\n",
    "And when I typed `model(x)` so shy,\n",
    "You shined with a `y_hat` in your eye.\n",
    "\n",
    "---\n",
    "\n",
    "**\\[Chorus]**\n",
    "I’m gonna square you up, baby, that’s the deal,\n",
    "Feed you through a net that learns what’s real.\n",
    "We batch, we shuffle, we optimize,\n",
    "Until your errors say goodbye.\n",
    "\n",
    "From 4 to 16, then down to 1,\n",
    "We train all day under GPU sun.\n",
    "You’re more than just a number, can’t you see?\n",
    "You’re a square, baby — you’re perfect to me.\n",
    "\n",
    "---\n",
    "\n",
    "**\\[Outro]**\n",
    "Now you’re ready for the world to test,\n",
    "With every guess, you're doing your best.\n",
    "You were just `x`, now look at you shine —\n",
    "Squared and trained, you're doing fine. 💫\n",
    "\n",
    "---\n",
    "\n",
    "Would you like a recorded version, or lyrics embedded as a markdown cell in the notebook?\n",
    "\n"
   ]
  }
 ],
 "metadata": {
  "language_info": {
   "name": "python"
  }
 },
 "nbformat": 4,
 "nbformat_minor": 5
}
