{
 "cells": [
  {
   "cell_type": "markdown",
   "id": "585af6e2",
   "metadata": {},
   "source": [
    "## 🤖 Text Classification with BERT (AG News + Transformers)\n",
    "This notebook shows how to fine-tune a pre-trained BERT model on the AG News dataset using Hugging Face Transformers."
   ]
  },
  {
   "cell_type": "code",
   "execution_count": null,
   "id": "ff3795ca",
   "metadata": {},
   "outputs": [],
   "source": [
    "import torch\n",
    "from torch.utils.data import DataLoader\n",
    "from datasets import load_dataset\n",
    "from transformers import BertTokenizer, BertForSequenceClassification, AdamW\n",
    "from transformers import DataCollatorWithPadding\n",
    "from sklearn.metrics import accuracy_score\n",
    "from tqdm import tqdm"
   ]
  },
  {
   "cell_type": "markdown",
   "id": "e56b53e4",
   "metadata": {},
   "source": [
    "### 1. Load the AG News Dataset"
   ]
  },
  {
   "cell_type": "code",
   "execution_count": null,
   "id": "216195a5",
   "metadata": {},
   "outputs": [],
   "source": [
    "# Load dataset from Hugging Face Datasets\n",
    "dataset = load_dataset(\"ag_news\")\n",
    "print(dataset)"
   ]
  },
  {
   "cell_type": "markdown",
   "id": "228f9587",
   "metadata": {},
   "source": [
    "### 2. Tokenize with BERT Tokenizer"
   ]
  },
  {
   "cell_type": "code",
   "execution_count": null,
   "id": "a7df2857",
   "metadata": {},
   "outputs": [],
   "source": [
    "tokenizer = BertTokenizer.from_pretrained(\"bert-base-uncased\")\n",
    "\n",
    "def tokenize(batch):\n",
    "    return tokenizer(batch[\"text\"], truncation=True)\n",
    "\n",
    "# Tokenize datasets\n",
    "tokenized = dataset.map(tokenize, batched=True)\n",
    "tokenized = tokenized.rename_column(\"label\", \"labels\")\n",
    "tokenized.set_format(\"torch\", columns=[\"input_ids\", \"attention_mask\", \"labels\"])\n",
    "\n",
    "# Data collator for dynamic padding\n",
    "collator = DataCollatorWithPadding(tokenizer=tokenizer)"
   ]
  },
  {
   "cell_type": "markdown",
   "id": "4101b322",
   "metadata": {},
   "source": [
    "### 3. Prepare Model and DataLoaders"
   ]
  },
  {
   "cell_type": "code",
   "execution_count": null,
   "id": "06b23dc2",
   "metadata": {},
   "outputs": [],
   "source": [
    "model = BertForSequenceClassification.from_pretrained(\"bert-base-uncased\", num_labels=4)\n",
    "device = torch.device(\"cuda\" if torch.cuda.is_available() else \"cpu\")\n",
    "model.to(device)\n",
    "\n",
    "train_loader = DataLoader(tokenized[\"train\"].select(range(2000)), batch_size=16, shuffle=True, collate_fn=collator)\n",
    "test_loader = DataLoader(tokenized[\"test\"].select(range(500)), batch_size=32, shuffle=False, collate_fn=collator)"
   ]
  },
  {
   "cell_type": "markdown",
   "id": "b6f553d0",
   "metadata": {},
   "source": [
    "### 4. Train the BERT Classifier"
   ]
  },
  {
   "cell_type": "code",
   "execution_count": null,
   "id": "ccf46bc1",
   "metadata": {},
   "outputs": [],
   "source": [
    "optimizer = AdamW(model.parameters(), lr=2e-5)\n",
    "\n",
    "model.train()\n",
    "for epoch in range(3):\n",
    "    total_loss = 0\n",
    "    for batch in tqdm(train_loader):\n",
    "        batch = {k: v.to(device) for k, v in batch.items()}\n",
    "        outputs = model(**batch)\n",
    "        loss = outputs.loss\n",
    "\n",
    "        optimizer.zero_grad()\n",
    "        loss.backward()\n",
    "        optimizer.step()\n",
    "        total_loss += loss.item()\n",
    "\n",
    "    print(f\"Epoch {epoch+1}, Loss: {total_loss:.4f}\")"
   ]
  },
  {
   "cell_type": "markdown",
   "id": "745768c6",
   "metadata": {},
   "source": [
    "### 5. Evaluate the BERT Model"
   ]
  },
  {
   "cell_type": "code",
   "execution_count": null,
   "id": "da7ad746",
   "metadata": {},
   "outputs": [],
   "source": [
    "model.eval()\n",
    "all_preds, all_labels = [], []\n",
    "with torch.no_grad():\n",
    "    for batch in test_loader:\n",
    "        labels = batch[\"labels\"]\n",
    "        batch = {k: v.to(device) for k, v in batch.items()}\n",
    "        outputs = model(**batch)\n",
    "        preds = torch.argmax(outputs.logits, dim=1).cpu()\n",
    "        all_preds.extend(preds)\n",
    "        all_labels.extend(labels)\n",
    "\n",
    "acc = accuracy_score(all_labels, all_preds)\n",
    "print(\"Test Accuracy:\", acc)"
   ]
  }
 ],
 "metadata": {},
 "nbformat": 4,
 "nbformat_minor": 5
}
