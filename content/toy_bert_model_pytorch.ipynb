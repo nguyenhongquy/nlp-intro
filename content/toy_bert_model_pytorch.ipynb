{
 "cells": [
  {
   "cell_type": "markdown",
   "id": "14208830",
   "metadata": {},
   "source": [
    "## 🧪 Toy BERT-like Model from Scratch (PyTorch)\n",
    "This notebook demonstrates a minimal BERT-style architecture implemented using PyTorch only, trained on synthetic data."
   ]
  },
  {
   "cell_type": "markdown",
   "id": "a16a1629",
   "metadata": {},
   "source": [
    "### 1. Imports and Config"
   ]
  },
  {
   "cell_type": "code",
   "execution_count": null,
   "id": "44e0699f",
   "metadata": {},
   "outputs": [],
   "source": [
    "import torch\n",
    "import torch.nn as nn\n",
    "import torch.nn.functional as F\n",
    "from torch.utils.data import DataLoader, Dataset\n",
    "import math\n",
    "import random"
   ]
  },
  {
   "cell_type": "markdown",
   "id": "83b740a6",
   "metadata": {},
   "source": [
    "### 2. Toy Dataset for Token Classification"
   ]
  },
  {
   "cell_type": "code",
   "execution_count": null,
   "id": "2b58d6ab",
   "metadata": {},
   "outputs": [],
   "source": [
    "vocab_size = 20\n",
    "seq_len = 8\n",
    "\n",
    "class ToyTextDataset(Dataset):\n",
    "    def __init__(self, size=1000):\n",
    "        self.data = []\n",
    "        for _ in range(size):\n",
    "            tokens = torch.randint(1, vocab_size, (seq_len,))\n",
    "            labels = (tokens % 2).long()  # fake task: predict parity of tokens\n",
    "            self.data.append((tokens, labels))\n",
    "\n",
    "    def __len__(self):\n",
    "        return len(self.data)\n",
    "\n",
    "    def __getitem__(self, idx):\n",
    "        return self.data[idx]\n",
    "\n",
    "dataset = ToyTextDataset()\n",
    "loader = DataLoader(dataset, batch_size=16, shuffle=True)"
   ]
  },
  {
   "cell_type": "markdown",
   "id": "391d9d19",
   "metadata": {},
   "source": [
    "### 3. Positional Encoding"
   ]
  },
  {
   "cell_type": "code",
   "execution_count": null,
   "id": "3df65600",
   "metadata": {},
   "outputs": [],
   "source": [
    "class PositionalEncoding(nn.Module):\n",
    "    def __init__(self, dim, max_len=512):\n",
    "        super().__init__()\n",
    "        pe = torch.zeros(max_len, dim)\n",
    "        position = torch.arange(0, max_len).unsqueeze(1)\n",
    "        div_term = torch.exp(torch.arange(0, dim, 2) * -(math.log(10000.0) / dim))\n",
    "        pe[:, 0::2] = torch.sin(position * div_term)\n",
    "        pe[:, 1::2] = torch.cos(position * div_term)\n",
    "        self.pe = pe.unsqueeze(0)\n",
    "\n",
    "    def forward(self, x):\n",
    "        return x + self.pe[:, :x.size(1)].to(x.device)"
   ]
  },
  {
   "cell_type": "markdown",
   "id": "cb67d057",
   "metadata": {},
   "source": [
    "### 4. Toy BERT Block"
   ]
  },
  {
   "cell_type": "code",
   "execution_count": null,
   "id": "b61087e6",
   "metadata": {},
   "outputs": [],
   "source": [
    "class TransformerBlock(nn.Module):\n",
    "    def __init__(self, dim, heads, ff_hidden):\n",
    "        super().__init__()\n",
    "        self.attn = nn.MultiheadAttention(embed_dim=dim, num_heads=heads, batch_first=True)\n",
    "        self.ff = nn.Sequential(\n",
    "            nn.Linear(dim, ff_hidden),\n",
    "            nn.ReLU(),\n",
    "            nn.Linear(ff_hidden, dim)\n",
    "        )\n",
    "        self.norm1 = nn.LayerNorm(dim)\n",
    "        self.norm2 = nn.LayerNorm(dim)\n",
    "\n",
    "    def forward(self, x):\n",
    "        attn_out, _ = self.attn(x, x, x)\n",
    "        x = self.norm1(x + attn_out)\n",
    "        ff_out = self.ff(x)\n",
    "        x = self.norm2(x + ff_out)\n",
    "        return x"
   ]
  },
  {
   "cell_type": "markdown",
   "id": "f3f9ca5e",
   "metadata": {},
   "source": [
    "### 5. Full Toy BERT-like Model"
   ]
  },
  {
   "cell_type": "code",
   "execution_count": null,
   "id": "01c03c91",
   "metadata": {},
   "outputs": [],
   "source": [
    "class ToyBERT(nn.Module):\n",
    "    def __init__(self, vocab_size, dim=32, heads=4, ff_hidden=64, n_layers=2, max_len=512):\n",
    "        super().__init__()\n",
    "        self.embedding = nn.Embedding(vocab_size, dim)\n",
    "        self.pos_enc = PositionalEncoding(dim, max_len)\n",
    "        self.transformer_blocks = nn.Sequential(*[\n",
    "            TransformerBlock(dim, heads, ff_hidden) for _ in range(n_layers)\n",
    "        ])\n",
    "        self.classifier = nn.Linear(dim, 2)  # predict parity\n",
    "\n",
    "    def forward(self, x):\n",
    "        x = self.embedding(x)\n",
    "        x = self.pos_enc(x)\n",
    "        x = self.transformer_blocks(x)\n",
    "        return self.classifier(x)"
   ]
  },
  {
   "cell_type": "markdown",
   "id": "9b8497ea",
   "metadata": {},
   "source": [
    "### 6. Training Loop"
   ]
  },
  {
   "cell_type": "code",
   "execution_count": null,
   "id": "5da3ef97",
   "metadata": {},
   "outputs": [],
   "source": [
    "device = torch.device(\"cuda\" if torch.cuda.is_available() else \"cpu\")\n",
    "model = ToyBERT(vocab_size).to(device)\n",
    "criterion = nn.CrossEntropyLoss()\n",
    "optimizer = torch.optim.Adam(model.parameters(), lr=0.001)\n",
    "\n",
    "for epoch in range(5):\n",
    "    model.train()\n",
    "    total_loss = 0\n",
    "    for tokens, labels in loader:\n",
    "        tokens, labels = tokens.to(device), labels.to(device)\n",
    "        logits = model(tokens)\n",
    "        loss = criterion(logits.view(-1, 2), labels.view(-1))\n",
    "\n",
    "        optimizer.zero_grad()\n",
    "        loss.backward()\n",
    "        optimizer.step()\n",
    "        total_loss += loss.item()\n",
    "\n",
    "    print(f\"Epoch {epoch+1}, Loss: {total_loss:.4f}\")"
   ]
  },
  {
   "cell_type": "markdown",
   "id": "dc717001",
   "metadata": {},
   "source": [
    "### 7. Evaluation on a Sample"
   ]
  },
  {
   "cell_type": "code",
   "execution_count": null,
   "id": "bb45cc3d",
   "metadata": {},
   "outputs": [],
   "source": [
    "model.eval()\n",
    "sample = torch.randint(1, vocab_size, (1, seq_len)).to(device)\n",
    "with torch.no_grad():\n",
    "    logits = model(sample)\n",
    "    pred = torch.argmax(logits, dim=-1)\n",
    "print(\"Input tokens:\", sample.cpu().tolist())\n",
    "print(\"Predicted labels:\", pred.cpu().tolist())"
   ]
  }
 ],
 "metadata": {},
 "nbformat": 4,
 "nbformat_minor": 5
}
