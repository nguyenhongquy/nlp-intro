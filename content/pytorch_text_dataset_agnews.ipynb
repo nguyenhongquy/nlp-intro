{
 "cells": [
  {
   "cell_type": "markdown",
   "id": "ae119438",
   "metadata": {},
   "source": [
    "## 📚 Using Built-in Text Datasets in PyTorch (torchtext)\n",
    "This notebook shows how to load and use the AG News dataset using `torchtext.datasets`."
   ]
  },
  {
   "cell_type": "code",
   "execution_count": null,
   "id": "03347d04",
   "metadata": {},
   "outputs": [],
   "source": [
    "import torch\n",
    "from torchtext.datasets import AG_NEWS\n",
    "from torchtext.data.utils import get_tokenizer\n",
    "from collections import Counter\n",
    "from torchtext.vocab import Vocab\n",
    "from torch.utils.data import DataLoader\n",
    "from torch.nn.utils.rnn import pad_sequence"
   ]
  },
  {
   "cell_type": "markdown",
   "id": "d6454ad7",
   "metadata": {},
   "source": [
    "### 1. Load the AG News Dataset"
   ]
  },
  {
   "cell_type": "code",
   "execution_count": null,
   "id": "3ef6e5a4",
   "metadata": {},
   "outputs": [],
   "source": [
    "# Download the dataset\n",
    "train_iter = AG_NEWS(split='train')\n",
    "\n",
    "# Show a few examples\n",
    "for i, (label, text) in enumerate(train_iter):\n",
    "    print(f\"Label: {label}, Text: {text}\")\n",
    "    if i == 2:\n",
    "        break"
   ]
  },
  {
   "cell_type": "markdown",
   "id": "653e61b2",
   "metadata": {},
   "source": [
    "### 2. Tokenize and Build Vocabulary"
   ]
  },
  {
   "cell_type": "code",
   "execution_count": null,
   "id": "d128fce7",
   "metadata": {},
   "outputs": [],
   "source": [
    "tokenizer = get_tokenizer('basic_english')\n",
    "train_iter = AG_NEWS(split='train')\n",
    "\n",
    "# Build vocabulary\n",
    "counter = Counter()\n",
    "for label, line in train_iter:\n",
    "    counter.update(tokenizer(line))\n",
    "vocab = Vocab(counter, specials=['<unk>', '<pad>'])\n",
    "vocab.set_default_index(vocab['<unk>'])\n",
    "\n",
    "# Check vocab size\n",
    "print(\"Vocabulary size:\", len(vocab))"
   ]
  },
  {
   "cell_type": "markdown",
   "id": "16ae5bc0",
   "metadata": {},
   "source": [
    "### 3. Encode and Pad Batches"
   ]
  },
  {
   "cell_type": "code",
   "execution_count": null,
   "id": "fe6f74b7",
   "metadata": {},
   "outputs": [],
   "source": [
    "def encode(text):\n",
    "    return torch.tensor([vocab[token] for token in tokenizer(text)], dtype=torch.long)\n",
    "\n",
    "def collate_batch(batch):\n",
    "    label_list, text_list = [], []\n",
    "    for label, text in batch:\n",
    "        label_list.append(torch.tensor(label - 1))  # Labels are 1-4\n",
    "        text_list.append(encode(text))\n",
    "    text_padded = pad_sequence(text_list, batch_first=True, padding_value=vocab['<pad>'])\n",
    "    return text_padded, torch.tensor(label_list)\n",
    "\n",
    "# Create DataLoader\n",
    "train_iter = AG_NEWS(split='train')\n",
    "train_loader = DataLoader(list(train_iter)[:1024], batch_size=16, shuffle=True, collate_fn=collate_batch)\n",
    "\n",
    "# View one batch\n",
    "for batch_text, batch_labels in train_loader:\n",
    "    print(\"Batch text shape:\", batch_text.shape)\n",
    "    print(\"Batch labels shape:\", batch_labels.shape)\n",
    "    break"
   ]
  }
 ],
 "metadata": {},
 "nbformat": 4,
 "nbformat_minor": 5
}
