{
 "cells": [
  {
   "cell_type": "markdown",
   "id": "a2bc3884",
   "metadata": {},
   "source": [
    "## 🟢 1. Tensors & GPU Acceleration\n",
    "Tensors are like NumPy arrays but support GPU acceleration and autograd."
   ]
  },
  {
   "cell_type": "code",
   "execution_count": null,
   "id": "9811991a",
   "metadata": {},
   "outputs": [],
   "source": [
    "import torch\n",
    "\n",
    "# Create a tensor on CPU\n",
    "x = torch.tensor([[1.0, 2.0], [3.0, 4.0]])\n",
    "print(\"CPU Tensor:\\n\", x)\n",
    "\n",
    "# Move to GPU if available\n",
    "device = torch.device(\"cuda\" if torch.cuda.is_available() else \"cpu\")\n",
    "x = x.to(device)\n",
    "print(f\"Tensor on {device}:\\n\", x)\n",
    "\n",
    "# Elementwise operation\n",
    "y = torch.ones_like(x)\n",
    "z = x + y\n",
    "print(\"After addition:\\n\", z)\n",
    "\n",
    "# Matrix multiplication\n",
    "m = torch.matmul(x, z.T)\n",
    "print(\"Matrix multiplication:\\n\", m)\n",
    "\n",
    "# Reduction (mean)\n",
    "mean_val = m.mean()\n",
    "print(\"Mean value:\", mean_val.item())"
   ]
  },
  {
   "cell_type": "markdown",
   "id": "9fcb6954",
   "metadata": {},
   "source": [
    "## 🟢 2. Autograd (Automatic Differentiation)\n",
    "Automatically compute gradients using autograd."
   ]
  },
  {
   "cell_type": "code",
   "execution_count": null,
   "id": "3d49fd3e",
   "metadata": {},
   "outputs": [],
   "source": [
    "import torch\n",
    "\n",
    "x = torch.tensor(2.0, requires_grad=True)\n",
    "y = (3 * x + 2) ** 2\n",
    "y.backward()\n",
    "\n",
    "print(\"Value of y:\", y.item())\n",
    "print(\"Gradient dy/dx:\", x.grad.item())"
   ]
  },
  {
   "cell_type": "markdown",
   "id": "2da0e60c",
   "metadata": {},
   "source": [
    "## 🟢 3. torch.nn (Neural Networks API)\n",
    "Use modules like Linear, ReLU, and MSELoss to define neural networks."
   ]
  },
  {
   "cell_type": "code",
   "execution_count": null,
   "id": "439f4b9a",
   "metadata": {},
   "outputs": [],
   "source": [
    "import torch\n",
    "import torch.nn as nn\n",
    "\n",
    "class SimpleNet(nn.Module):\n",
    "    def __init__(self):\n",
    "        super().__init__()\n",
    "        self.model = nn.Sequential(\n",
    "            nn.Linear(4, 16),\n",
    "            nn.ReLU(),\n",
    "            nn.Linear(16, 1)\n",
    "        )\n",
    "\n",
    "    def forward(self, x):\n",
    "        return self.model(x)\n",
    "\n",
    "net = SimpleNet()\n",
    "\n",
    "x = torch.rand(2, 4)\n",
    "output = net(x)\n",
    "\n",
    "print(\"Input:\\n\", x)\n",
    "print(\"Output:\\n\", output)\n",
    "\n",
    "target = torch.tensor([[1.0], [0.0]])\n",
    "criterion = nn.MSELoss()\n",
    "loss = criterion(output, target)\n",
    "\n",
    "print(\"Loss:\", loss.item())"
   ]
  },
  {
   "cell_type": "markdown",
   "id": "8cba205b",
   "metadata": {},
   "source": [
    "## 🟢 4. Optimization & Training Loop\n",
    "Train a simple model using an optimizer and loss function."
   ]
  },
  {
   "cell_type": "code",
   "execution_count": null,
   "id": "e1ae7f58",
   "metadata": {},
   "outputs": [],
   "source": [
    "import torch\n",
    "import torch.nn as nn\n",
    "import torch.optim as optim\n",
    "\n",
    "X = torch.rand(10, 4)\n",
    "y = torch.rand(10, 1)\n",
    "\n",
    "model = nn.Sequential(\n",
    "    nn.Linear(4, 16),\n",
    "    nn.ReLU(),\n",
    "    nn.Linear(16, 1)\n",
    ")\n",
    "\n",
    "criterion = nn.MSELoss()\n",
    "optimizer = optim.Adam(model.parameters(), lr=0.01)\n",
    "\n",
    "for epoch in range(100):\n",
    "    outputs = model(X)\n",
    "    loss = criterion(outputs, y)\n",
    "\n",
    "    optimizer.zero_grad()\n",
    "    loss.backward()\n",
    "    optimizer.step()\n",
    "\n",
    "    if epoch % 20 == 0:\n",
    "        print(f\"Epoch {epoch}, Loss: {loss.item():.4f}\")"
   ]
  },
  {
   "cell_type": "markdown",
   "id": "463f7684",
   "metadata": {},
   "source": [
    "## 🟢 5. Data Loading (Dataset & DataLoader)\n",
    "Load and batch data efficiently using DataLoader."
   ]
  },
  {
   "cell_type": "code",
   "execution_count": null,
   "id": "92e0b44f",
   "metadata": {},
   "outputs": [],
   "source": [
    "import torch\n",
    "from torch.utils.data import Dataset, DataLoader\n",
    "\n",
    "class ToyDataset(Dataset):\n",
    "    def __init__(self):\n",
    "        self.data = torch.arange(100).float()\n",
    "\n",
    "    def __len__(self):\n",
    "        return len(self.data)\n",
    "\n",
    "    def __getitem__(self, idx):\n",
    "        x = self.data[idx]\n",
    "        y = x ** 2\n",
    "        return x, y\n",
    "\n",
    "dataset = ToyDataset()\n",
    "loader = DataLoader(dataset, batch_size=10, shuffle=True)\n",
    "\n",
    "for batch_x, batch_y in loader:\n",
    "    print(\"x:\", batch_x)\n",
    "    print(\"y:\", batch_y)\n",
    "    break"
   ]
  }
 ],
 "metadata": {
  "language_info": {
   "name": "python"
  }
 },
 "nbformat": 4,
 "nbformat_minor": 5
}
