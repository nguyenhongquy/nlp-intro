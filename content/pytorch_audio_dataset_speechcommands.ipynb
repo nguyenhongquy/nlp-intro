{
 "cells": [
  {
   "cell_type": "markdown",
   "id": "b2d58f74",
   "metadata": {},
   "source": [
    "## 🎧 Using Built-in Audio Datasets in PyTorch (torchaudio)\n",
    "This notebook demonstrates loading and inspecting the SPEECHCOMMANDS dataset using `torchaudio.datasets`."
   ]
  },
  {
   "cell_type": "code",
   "execution_count": null,
   "id": "3afef3bd",
   "metadata": {},
   "outputs": [],
   "source": [
    "import torch\n",
    "import torchaudio\n",
    "from torchaudio.datasets import SPEECHCOMMANDS\n",
    "import os\n",
    "import random\n",
    "import matplotlib.pyplot as plt\n",
    "import torchaudio.transforms as T"
   ]
  },
  {
   "cell_type": "markdown",
   "id": "082f6bbf",
   "metadata": {},
   "source": [
    "### 1. Load the SPEECHCOMMANDS Dataset"
   ]
  },
  {
   "cell_type": "code",
   "execution_count": null,
   "id": "a3702159",
   "metadata": {},
   "outputs": [],
   "source": [
    "# Define the root path for dataset download\n",
    "root = './data'\n",
    "\n",
    "# Load training subset\n",
    "dataset = SPEECHCOMMANDS(root=root, download=True, subset='training')\n",
    "\n",
    "print(\"Number of samples:\", len(dataset))\n",
    "\n",
    "# Inspect one example\n",
    "waveform, sample_rate, label, *_ = random.choice(dataset)\n",
    "print(f\"Label: {label}, Sample rate: {sample_rate}, Waveform shape: {waveform.shape}\")"
   ]
  },
  {
   "cell_type": "markdown",
   "id": "4c99e802",
   "metadata": {},
   "source": [
    "### 2. Visualize the Waveform"
   ]
  },
  {
   "cell_type": "code",
   "execution_count": null,
   "id": "f71cf581",
   "metadata": {},
   "outputs": [],
   "source": [
    "plt.figure(figsize=(10, 3))\n",
    "plt.plot(waveform.t().numpy())\n",
    "plt.title(f\"Waveform of '{label}'\")\n",
    "plt.xlabel(\"Time\")\n",
    "plt.ylabel(\"Amplitude\")\n",
    "plt.grid(True)\n",
    "plt.show()"
   ]
  },
  {
   "cell_type": "markdown",
   "id": "f1198f72",
   "metadata": {},
   "source": [
    "### 3. Convert to Mel Spectrogram"
   ]
  },
  {
   "cell_type": "code",
   "execution_count": null,
   "id": "10b2067e",
   "metadata": {},
   "outputs": [],
   "source": [
    "mel_spectrogram = T.MelSpectrogram(sample_rate=sample_rate, n_mels=64)\n",
    "mel_spec = mel_spectrogram(waveform)\n",
    "\n",
    "# Plot mel spectrogram\n",
    "plt.figure(figsize=(10, 4))\n",
    "plt.imshow(mel_spec.log2()[0,:,:].numpy(), cmap='viridis', aspect='auto')\n",
    "plt.title(f\"Mel Spectrogram of '{label}'\")\n",
    "plt.xlabel(\"Frame\")\n",
    "plt.ylabel(\"Mel Bin\")\n",
    "plt.colorbar()\n",
    "plt.show()"
   ]
  }
 ],
 "metadata": {},
 "nbformat": 4,
 "nbformat_minor": 5
}
